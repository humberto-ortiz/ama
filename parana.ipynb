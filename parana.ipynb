{
 "metadata": {
  "name": ""
 },
 "nbformat": 3,
 "nbformat_minor": 0,
 "worksheets": [
  {
   "cells": [
    {
     "cell_type": "heading",
     "level": 1,
     "metadata": {},
     "source": [
      "Frequency of bus service on a particular route."
     ]
    },
    {
     "cell_type": "markdown",
     "metadata": {},
     "source": [
      "Humberto Ortiz-Zuazaga <humberto.ortiz@upr.edu>"
     ]
    },
    {
     "cell_type": "markdown",
     "metadata": {},
     "source": [
      "We got some data from [\"Autoridad Metropolitana de Autobuses\"](https://es.wikipedia.org/wiki/Autoridad_Metropolitana_de_Autobuses), and I wanted to see what bus service to my neighborhood looks like. I picked a spot near my home, and grepped the data file for partial coordinates:\n",
      "\n",
      "`$ cat AMA201401.txt  | grep \",18370\" | grep \",-66066\" > parana.txt`\n",
      "\n",
      "The data is a csv file with vehicle number, date and time, latitude, longitude, speed (km/h), and a code (1 for in motion, 2 for stopped, 4 for off):\n",
      "\n",
      "    $ head parana.txt \n",
      "    823,20140107205422,18370866,-66066824,25,1\n",
      "    823,20140107205427,18370545,-66066850,24,1\n",
      "    823,20140107205432,18370246,-66066868,20,1\n",
      "    823,20140116154618,18370701,-66066830,18,1\n",
      "    823,20140116154623,18370535,-66066846,7,1\n",
      "    823,20140116154703,18370331,-66066865,19,1\n",
      "    823,20140116154708,18370140,-66066874,18,1\n",
      "    823,20140116161308,18370128,-66066767,5,1\n",
      "    823,20140116161318,18370310,-66066757,7,1\n",
      "    823,20140116161356,18370485,-66066739,12,1\n",
      "\n",
      "This particular file has 3142 lines."
     ]
    },
    {
     "cell_type": "code",
     "collapsed": false,
     "input": [
      "%matplotlib inline"
     ],
     "language": "python",
     "metadata": {},
     "outputs": [],
     "prompt_number": 15
    },
    {
     "cell_type": "code",
     "collapsed": false,
     "input": [
      "import csv\n",
      "\n",
      "def timep(ds):\n",
      "    year = ds[:4]\n",
      "    month = ds[4:6]\n",
      "    day = ds[6:8]\n",
      "    hh = ds[8:10]\n",
      "    mm = ds[10:12]\n",
      "    ss = ds[12:14]\n",
      "    #return \"{0}-{1}-{2}T{3}:{4}:{5}Z\".format(year, month, day, hh, mm, ss)\n",
      "    return int(hh)\n",
      "\n",
      "counts = [0] * 24\n",
      "\n",
      "with open('parana.txt', 'rb') as csvfile:\n",
      "    amareader = csv.reader(csvfile)\n",
      "\n",
      "    for row in amareader:\n",
      "        time = timep(row[1])        \n",
      "        counts[time] += 1"
     ],
     "language": "python",
     "metadata": {},
     "outputs": [],
     "prompt_number": 16
    },
    {
     "cell_type": "code",
     "collapsed": false,
     "input": [
      "counts"
     ],
     "language": "python",
     "metadata": {},
     "outputs": [
      {
       "metadata": {},
       "output_type": "pyout",
       "prompt_number": 17,
       "text": [
        "[0,\n",
        " 0,\n",
        " 0,\n",
        " 0,\n",
        " 0,\n",
        " 72,\n",
        " 104,\n",
        " 168,\n",
        " 224,\n",
        " 233,\n",
        " 236,\n",
        " 259,\n",
        " 263,\n",
        " 167,\n",
        " 228,\n",
        " 203,\n",
        " 203,\n",
        " 192,\n",
        " 228,\n",
        " 180,\n",
        " 92,\n",
        " 86,\n",
        " 4,\n",
        " 0]"
       ]
      }
     ],
     "prompt_number": 17
    },
    {
     "cell_type": "markdown",
     "metadata": {},
     "source": [
      "My niece is always complaining there was no service between 11:00 AM and 2:00 PM. Let's just have a quick look to see if there really is no service:"
     ]
    },
    {
     "cell_type": "code",
     "collapsed": false,
     "input": [
      "bar(range(24), counts)\n",
      "xlim(0,24)"
     ],
     "language": "python",
     "metadata": {},
     "outputs": [
      {
       "metadata": {},
       "output_type": "pyout",
       "prompt_number": 18,
       "text": [
        "(0, 24)"
       ]
      },
      {
       "metadata": {},
       "output_type": "display_data",
       "png": "[encoded data removed]",
       "text": [
        "<matplotlib.figure.Figure at 0x1055e5e90>"
       ]
      }
     ],
     "prompt_number": 18
    },
    {
     "cell_type": "markdown",
     "metadata": {},
     "source": [
      "That's actually not so bad. There is a lull in service at 1:00 PM, but busses seem to still be running."
     ]
    }
   ],
   "metadata": {}
  }
 ]
}