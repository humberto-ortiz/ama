{
 "cells": [
  {
   "cell_type": "markdown",
   "metadata": {},
   "source": [
    "# Frequency of bus service on a particular route."
   ]
  },
  {
   "cell_type": "markdown",
   "metadata": {},
   "source": [
    "Humberto Ortiz-Zuazaga <humberto.ortiz@upr.edu>"
   ]
  },
  {
   "cell_type": "markdown",
   "metadata": {},
   "source": [
    "We got some data from [\"Autoridad Metropolitana de Autobuses\"](https://es.wikipedia.org/wiki/Autoridad_Metropolitana_de_Autobuses), and I wanted to see what bus service to my neighborhood looks like. I picked a spot near my home, and grepped the data files for partial coordinates:\n",
    "\n",
    "`$ cat AMA20140[12345].txt  | grep \",18370\" | grep \",-66066\" > parana-big.txt`\n",
    "\n",
    "The data is a csv file with vehicle number, date and time, latitude, longitude, speed (km/h), and a code (1 for in motion, 2 for stopped, 4 for off):\n",
    "\n",
    "    $ head parana.txt \n",
    "    823,20140107205422,18370866,-66066824,25,1\n",
    "    823,20140107205427,18370545,-66066850,24,1\n",
    "    823,20140107205432,18370246,-66066868,20,1\n",
    "    823,20140116154618,18370701,-66066830,18,1\n",
    "    823,20140116154623,18370535,-66066846,7,1\n",
    "    823,20140116154703,18370331,-66066865,19,1\n",
    "    823,20140116154708,18370140,-66066874,18,1\n",
    "    823,20140116161308,18370128,-66066767,5,1\n",
    "    823,20140116161318,18370310,-66066757,7,1\n",
    "    823,20140116161356,18370485,-66066739,12,1\n",
    "\n",
    "This particular file has 16773 lines."
   ]
  },
  {
   "cell_type": "code",
   "execution_count": 1,
   "metadata": {
    "collapsed": false
   },
   "outputs": [],
   "source": [
    "%matplotlib inline"
   ]
  },
  {
   "cell_type": "code",
   "execution_count": 2,
   "metadata": {
    "collapsed": false
   },
   "outputs": [],
   "source": [
    "import csv\n",
    "from datetime import datetime, timedelta\n",
    "\n",
    "def timeparse(ds):\n",
    "    timestamp = datetime.strptime(ds, \"%Y%m%d%H%M%S\")\n",
    "    #return \"{0}-{1}-{2}T{3}:{4}:{5}Z\".format(year, month, day, hh, mm, ss)\n",
    "    return timestamp\n",
    "\n",
    "counts = [0] * 24\n",
    "trips = []\n",
    "times = []\n",
    "\n",
    "last = datetime.fromordinal(1)\n",
    "epsilon = timedelta(minutes=15) # it takes around 20 minutes for the bus to come back\n",
    "lastbus = 0\n",
    "\n",
    "with open('parana-big.txt', 'rb') as csvfile:\n",
    "    amareader = csv.reader(csvfile)\n",
    "\n",
    "    for row in amareader:\n",
    "        timestamp = timeparse(row[1])\n",
    "        bus = row[0]\n",
    "        tdiff = abs(timestamp - last)\n",
    "        \n",
    "        # make sure it's a different bus, not the same stuck in traffic\n",
    "        # the data is sorted by vehicle number, then date\n",
    "        if tdiff > epsilon or bus != lastbus:\n",
    "            # print timestamp, last, row\n",
    "            lastbus = bus\n",
    "            last = timestamp\n",
    "            hour = timestamp.hour\n",
    "            counts[hour] += 1\n",
    "            trips.append(timestamp)\n",
    "\n",
    "            midnight = timestamp.replace(hour=0, minute=0, second=0)\n",
    "            diff = timestamp - midnight\n",
    "            times.append(diff.total_seconds())\n"
   ]
  },
  {
   "cell_type": "code",
   "execution_count": 3,
   "metadata": {
    "collapsed": false
   },
   "outputs": [
    {
     "data": {
      "text/plain": [
       "[0,\n",
       " 0,\n",
       " 0,\n",
       " 0,\n",
       " 0,\n",
       " 84,\n",
       " 189,\n",
       " 185,\n",
       " 290,\n",
       " 326,\n",
       " 297,\n",
       " 305,\n",
       " 280,\n",
       " 219,\n",
       " 249,\n",
       " 260,\n",
       " 244,\n",
       " 248,\n",
       " 288,\n",
       " 226,\n",
       " 137,\n",
       " 140,\n",
       " 4,\n",
       " 0]"
      ]
     },
     "execution_count": 3,
     "metadata": {},
     "output_type": "execute_result"
    }
   ],
   "source": [
    "counts"
   ]
  },
  {
   "cell_type": "markdown",
   "metadata": {},
   "source": [
    "My niece is always complaining there was no service between 11:00 AM and 2:00 PM. Let's just have a quick look to see if there really is no service:"
   ]
  },
  {
   "cell_type": "code",
   "execution_count": 4,
   "metadata": {
    "collapsed": false
   },
   "outputs": [
    {
     "data": {
      "text/plain": [
       "(0, 24)"
      ]
     },
     "execution_count": 4,
     "metadata": {},
     "output_type": "execute_result"
    },
    {
     "data": {
      "image/png": "[encoded data removed]",
      "text/plain": [
       "<matplotlib.figure.Figure at 0x7fa1880c7690>"
      ]
     },
     "metadata": {},
     "output_type": "display_data"
    }
   ],
   "source": [
    "from pylab import *\n",
    "bar(range(24), counts)\n",
    "xlim(0,24)"
   ]
  },
  {
   "cell_type": "markdown",
   "metadata": {},
   "source": [
    "That's actually not so bad. There is a lull in service at 1:00 PM, but busses seem to still be running. Let's dig a little deeper. We have the timestamp of each trip recorded, but they're not in order."
   ]
  },
  {
   "cell_type": "code",
   "execution_count": 5,
   "metadata": {
    "collapsed": false
   },
   "outputs": [
    {
     "data": {
      "text/plain": [
       "[datetime.datetime(2014, 1, 7, 20, 54, 22),\n",
       " datetime.datetime(2014, 1, 16, 15, 46, 18),\n",
       " datetime.datetime(2014, 1, 16, 16, 13, 8),\n",
       " datetime.datetime(2014, 1, 16, 17, 42, 53),\n",
       " datetime.datetime(2014, 1, 16, 18, 11, 5),\n",
       " datetime.datetime(2014, 1, 16, 19, 23, 4),\n",
       " datetime.datetime(2014, 1, 16, 19, 49, 19),\n",
       " datetime.datetime(2014, 1, 21, 20, 14, 46),\n",
       " datetime.datetime(2014, 1, 21, 20, 33, 16),\n",
       " datetime.datetime(2014, 1, 26, 14, 25, 12)]"
      ]
     },
     "execution_count": 5,
     "metadata": {},
     "output_type": "execute_result"
    }
   ],
   "source": [
    "trips[:10]"
   ]
  },
  {
   "cell_type": "code",
   "execution_count": 6,
   "metadata": {
    "collapsed": false
   },
   "outputs": [
    {
     "data": {
      "text/plain": [
       "[datetime.datetime(2014, 1, 1, 6, 0, 38),\n",
       " datetime.datetime(2014, 1, 1, 7, 47, 43),\n",
       " datetime.datetime(2014, 1, 1, 8, 3, 2),\n",
       " datetime.datetime(2014, 1, 1, 9, 24, 47),\n",
       " datetime.datetime(2014, 1, 1, 9, 42, 20),\n",
       " datetime.datetime(2014, 1, 1, 10, 21, 24),\n",
       " datetime.datetime(2014, 1, 1, 11, 42, 16),\n",
       " datetime.datetime(2014, 1, 1, 12, 0, 3),\n",
       " datetime.datetime(2014, 1, 1, 14, 25, 42),\n",
       " datetime.datetime(2014, 1, 1, 14, 46, 20)]"
      ]
     },
     "execution_count": 6,
     "metadata": {},
     "output_type": "execute_result"
    }
   ],
   "source": [
    "trips.sort() # sort by datetime\n",
    "trips[:10]"
   ]
  },
  {
   "cell_type": "markdown",
   "metadata": {},
   "source": [
    "Now that the timestamps are sorted, we can check how long a person that just missed a bus will wait for the next one."
   ]
  },
  {
   "cell_type": "code",
   "execution_count": 7,
   "metadata": {
    "collapsed": false
   },
   "outputs": [],
   "source": [
    "intervals = [0] * 24\n",
    "counts = [0] * 24\n",
    "\n",
    "for i in range(1, len(trips)):\n",
    "    wait = trips[i] - trips[i-1] # how long since the last bus?\n",
    "    hour = trips[i].hour\n",
    "    # count how many hours you waited if you missed the last bus\n",
    "    intervals[hour] += wait.seconds / 60.0**2\n",
    "    counts[hour] += 1"
   ]
  },
  {
   "cell_type": "markdown",
   "metadata": {},
   "source": [
    "Now we can compute the average wait time per hour blocks."
   ]
  },
  {
   "cell_type": "code",
   "execution_count": 8,
   "metadata": {
    "collapsed": false
   },
   "outputs": [
    {
     "data": {
      "text/plain": [
       "[0,\n",
       " 0,\n",
       " 0,\n",
       " 0,\n",
       " 0,\n",
       " 8.622622354497352,\n",
       " 3.153795803782506,\n",
       " 0.8821351351351358,\n",
       " 0.810387931034482,\n",
       " 0.463052999318337,\n",
       " 0.5035867938645715,\n",
       " 0.5140938069216753,\n",
       " 0.5337867063492059,\n",
       " 0.7208447488584477,\n",
       " 0.5765662650602411,\n",
       " 0.5386944444444447,\n",
       " 0.5876366120218577,\n",
       " 0.6004446684587816,\n",
       " 0.49911554783950596,\n",
       " 0.6116285644051129,\n",
       " 0.6619282238442825,\n",
       " 1.1397162698412688,\n",
       " 0.8788888888888888,\n",
       " 0]"
      ]
     },
     "execution_count": 8,
     "metadata": {},
     "output_type": "execute_result"
    }
   ],
   "source": [
    "for i in range(24):\n",
    "    if counts[i]: # don't divide by zero\n",
    "        intervals[i] = intervals[i] / counts[i]\n",
    "\n",
    "intervals"
   ]
  },
  {
   "cell_type": "code",
   "execution_count": 9,
   "metadata": {
    "collapsed": false
   },
   "outputs": [
    {
     "data": {
      "text/plain": [
       "(0, 24)"
      ]
     },
     "execution_count": 9,
     "metadata": {},
     "output_type": "execute_result"
    },
    {
     "data": {
      "image/png": "[encoded data removed]",
      "text/plain": [
       "<matplotlib.figure.Figure at 0x7fa164b14b90>"
      ]
     },
     "metadata": {},
     "output_type": "display_data"
    }
   ],
   "source": [
    "bar(range(24), intervals)\n",
    "xlim(0,24)"
   ]
  },
  {
   "cell_type": "code",
   "execution_count": 10,
   "metadata": {
    "collapsed": false
   },
   "outputs": [
    {
     "data": {
      "text/plain": [
       "3971"
      ]
     },
     "execution_count": 10,
     "metadata": {},
     "output_type": "execute_result"
    }
   ],
   "source": [
    "len(trips)"
   ]
  },
  {
   "cell_type": "code",
   "execution_count": 11,
   "metadata": {
    "collapsed": false
   },
   "outputs": [
    {
     "data": {
      "text/plain": [
       "(0, 86400)"
      ]
     },
     "execution_count": 11,
     "metadata": {},
     "output_type": "execute_result"
    },
    {
     "data": {
      "image/png": "[encoded data removed]",
      "text/plain": [
       "<matplotlib.figure.Figure at 0x7fa162aa0e90>"
      ]
     },
     "metadata": {},
     "output_type": "display_data"
    }
   ],
   "source": [
    "import numpy as np\n",
    "day = 24 * 60 * 60\n",
    "bins = np.arange(day / (6 * 60) ,dtype = np.float_) * 6 * 60\n",
    "plt = hist(times, bins)\n",
    "xlim(0, 240 * 6* 60)"
   ]
  },
  {
   "cell_type": "code",
   "execution_count": 12,
   "metadata": {
    "collapsed": false
   },
   "outputs": [
    {
     "data": {
      "text/plain": [
       "[datetime.datetime(2014, 1, 1, 6, 0, 38),\n",
       " datetime.datetime(2014, 1, 1, 7, 47, 43),\n",
       " datetime.datetime(2014, 1, 1, 8, 3, 2),\n",
       " datetime.datetime(2014, 1, 1, 9, 24, 47),\n",
       " datetime.datetime(2014, 1, 1, 9, 42, 20),\n",
       " datetime.datetime(2014, 1, 1, 10, 21, 24),\n",
       " datetime.datetime(2014, 1, 1, 11, 42, 16),\n",
       " datetime.datetime(2014, 1, 1, 12, 0, 3),\n",
       " datetime.datetime(2014, 1, 1, 14, 25, 42),\n",
       " datetime.datetime(2014, 1, 1, 14, 46, 20),\n",
       " datetime.datetime(2014, 1, 1, 16, 23, 52),\n",
       " datetime.datetime(2014, 1, 1, 16, 41, 24),\n",
       " datetime.datetime(2014, 1, 1, 18, 52, 19),\n",
       " datetime.datetime(2014, 1, 1, 19, 17, 46),\n",
       " datetime.datetime(2014, 1, 1, 20, 32, 53),\n",
       " datetime.datetime(2014, 1, 2, 5, 57, 45),\n",
       " datetime.datetime(2014, 1, 2, 6, 18, 36),\n",
       " datetime.datetime(2014, 1, 2, 7, 36, 41),\n",
       " datetime.datetime(2014, 1, 2, 7, 57, 8),\n",
       " datetime.datetime(2014, 1, 2, 8, 27, 57)]"
      ]
     },
     "execution_count": 12,
     "metadata": {},
     "output_type": "execute_result"
    }
   ],
   "source": [
    "trips[:20]\n"
   ]
  },
  {
   "cell_type": "code",
   "execution_count": 13,
   "metadata": {
    "collapsed": false
   },
   "outputs": [
    {
     "data": {
      "text/plain": [
       "[datetime.datetime(2014, 1, 2, 5, 57, 45),\n",
       " datetime.datetime(2014, 1, 2, 6, 18, 36),\n",
       " datetime.datetime(2014, 1, 2, 7, 36, 41),\n",
       " datetime.datetime(2014, 1, 2, 7, 57, 8),\n",
       " datetime.datetime(2014, 1, 2, 8, 27, 57),\n",
       " datetime.datetime(2014, 1, 2, 8, 50, 43),\n",
       " datetime.datetime(2014, 1, 2, 9, 25, 1),\n",
       " datetime.datetime(2014, 1, 2, 9, 49, 5),\n",
       " datetime.datetime(2014, 1, 2, 10, 27, 22),\n",
       " datetime.datetime(2014, 1, 2, 10, 35, 17),\n",
       " datetime.datetime(2014, 1, 2, 10, 49, 56),\n",
       " datetime.datetime(2014, 1, 2, 11, 24, 16),\n",
       " datetime.datetime(2014, 1, 2, 11, 47, 41),\n",
       " datetime.datetime(2014, 1, 2, 12, 22, 47),\n",
       " datetime.datetime(2014, 1, 2, 12, 46, 43),\n",
       " datetime.datetime(2014, 1, 2, 13, 27, 5),\n",
       " datetime.datetime(2014, 1, 2, 13, 50, 50),\n",
       " datetime.datetime(2014, 1, 2, 14, 46, 18),\n",
       " datetime.datetime(2014, 1, 2, 15, 16, 24),\n",
       " datetime.datetime(2014, 1, 2, 15, 53, 6),\n",
       " datetime.datetime(2014, 1, 2, 16, 14, 52),\n",
       " datetime.datetime(2014, 1, 2, 16, 41, 11),\n",
       " datetime.datetime(2014, 1, 2, 16, 42, 52),\n",
       " datetime.datetime(2014, 1, 2, 17, 6, 28),\n",
       " datetime.datetime(2014, 1, 2, 17, 45, 47),\n",
       " datetime.datetime(2014, 1, 2, 18, 9, 49),\n",
       " datetime.datetime(2014, 1, 2, 19, 27),\n",
       " datetime.datetime(2014, 1, 2, 19, 47, 7),\n",
       " datetime.datetime(2014, 1, 2, 21, 20, 53),\n",
       " datetime.datetime(2014, 1, 3, 5, 56, 15)]"
      ]
     },
     "execution_count": 13,
     "metadata": {},
     "output_type": "execute_result"
    }
   ],
   "source": [
    "trips[15:15+30]"
   ]
  },
  {
   "cell_type": "code",
   "execution_count": null,
   "metadata": {
    "collapsed": false
   },
   "outputs": [],
   "source": []
  }
 ],
 "metadata": {
  "kernelspec": {
   "display_name": "Python 2",
   "language": "python",
   "name": "python2"
  },
  "language_info": {
   "codemirror_mode": {
    "name": "ipython",
    "version": 2
   },
   "file_extension": ".py",
   "mimetype": "text/x-python",
   "name": "python",
   "nbconvert_exporter": "python",
   "pygments_lexer": "ipython2",
   "version": "2.7.10"
  }
 },
 "nbformat": 4,
 "nbformat_minor": 0
}
